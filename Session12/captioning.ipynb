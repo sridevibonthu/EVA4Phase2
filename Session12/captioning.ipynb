{
  "nbformat": 4,
  "nbformat_minor": 0,
  "metadata": {
    "colab": {
      "name": "Untitled4.ipynb",
      "provenance": [],
      "authorship_tag": "ABX9TyPEfu3iy3XdbjoBfrgWTviW",
      "include_colab_link": true
    },
    "kernelspec": {
      "name": "python3",
      "display_name": "Python 3"
    },
    "accelerator": "GPU"
  },
  "cells": [
    {
      "cell_type": "markdown",
      "metadata": {
        "id": "view-in-github",
        "colab_type": "text"
      },
      "source": [
        "<a href=\"https://colab.research.google.com/github/sridevibonthu/EVA4Phase2/blob/master/Session12/captioning.ipynb\" target=\"_parent\"><img src=\"https://colab.research.google.com/assets/colab-badge.svg\" alt=\"Open In Colab\"/></a>"
      ]
    },
    {
      "cell_type": "code",
      "metadata": {
        "colab": {
          "base_uri": "https://localhost:8080/"
        },
        "id": "SqEvCURh4wJJ",
        "outputId": "3524ef9a-ff6f-4823-e579-9c821f6c05c1"
      },
      "source": [
        "!git clone https://github.com/sridevibonthu/a-PyTorch-Tutorial-to-Image-Captioning"
      ],
      "execution_count": 16,
      "outputs": [
        {
          "output_type": "stream",
          "text": [
            "Cloning into 'a-PyTorch-Tutorial-to-Image-Captioning'...\n",
            "remote: Enumerating objects: 3, done.\u001b[K\n",
            "remote: Counting objects: 100% (3/3), done.\u001b[K\n",
            "remote: Compressing objects: 100% (3/3), done.\u001b[K\n",
            "remote: Total 275 (delta 0), reused 0 (delta 0), pack-reused 272\u001b[K\n",
            "Receiving objects: 100% (275/275), 12.89 MiB | 2.97 MiB/s, done.\n",
            "Resolving deltas: 100% (147/147), done.\n"
          ],
          "name": "stdout"
        }
      ]
    },
    {
      "cell_type": "code",
      "metadata": {
        "id": "gwQK8cWg42pB"
      },
      "source": [
        "import gdown"
      ],
      "execution_count": 2,
      "outputs": []
    },
    {
      "cell_type": "code",
      "metadata": {
        "colab": {
          "base_uri": "https://localhost:8080/",
          "height": 105
        },
        "id": "cnI_evM75MNo",
        "outputId": "3f4e7a3e-f574-401a-a9a4-57bf440beea4"
      },
      "source": [
        "url = 'https://drive.google.com/uc?id=1zc_Qqe4SMjFAOH59mt8zY7qW8AIYCUYq'\n",
        "output = 'flickr8k.zip'\n",
        "gdown.download(url, output, quiet=False)"
      ],
      "execution_count": 3,
      "outputs": [
        {
          "output_type": "stream",
          "text": [
            "Downloading...\n",
            "From: https://drive.google.com/uc?id=1zc_Qqe4SMjFAOH59mt8zY7qW8AIYCUYq\n",
            "To: /content/flickr8k.zip\n",
            "2.23GB [00:40, 54.4MB/s]\n"
          ],
          "name": "stderr"
        },
        {
          "output_type": "execute_result",
          "data": {
            "application/vnd.google.colaboratory.intrinsic+json": {
              "type": "string"
            },
            "text/plain": [
              "'flickr8k.zip'"
            ]
          },
          "metadata": {
            "tags": []
          },
          "execution_count": 3
        }
      ]
    },
    {
      "cell_type": "code",
      "metadata": {
        "colab": {
          "base_uri": "https://localhost:8080/",
          "height": 105
        },
        "id": "pWY7Z5ah5Ppg",
        "outputId": "8d59fc09-84ee-490b-e751-1918fe043dd5"
      },
      "source": [
        "\n",
        "url = 'https://drive.google.com/uc?id=1QH6oUmeYeqNgu1Cbu3HVYRT35B-wEt3q'\n",
        "output = 'caption_dataset.zip'\n",
        "gdown.download(url, output, quiet=False)"
      ],
      "execution_count": 4,
      "outputs": [
        {
          "output_type": "stream",
          "text": [
            "Downloading...\n",
            "From: https://drive.google.com/uc?id=1QH6oUmeYeqNgu1Cbu3HVYRT35B-wEt3q\n",
            "To: /content/caption_dataset.zip\n",
            "36.7MB [00:01, 28.7MB/s]\n"
          ],
          "name": "stderr"
        },
        {
          "output_type": "execute_result",
          "data": {
            "application/vnd.google.colaboratory.intrinsic+json": {
              "type": "string"
            },
            "text/plain": [
              "'caption_dataset.zip'"
            ]
          },
          "metadata": {
            "tags": []
          },
          "execution_count": 4
        }
      ]
    },
    {
      "cell_type": "code",
      "metadata": {
        "id": "InaaAQ6J5yTD"
      },
      "source": [
        "! unzip -q flickr8k.zip\n"
      ],
      "execution_count": 6,
      "outputs": []
    },
    {
      "cell_type": "code",
      "metadata": {
        "id": "BOT72NL85zBc"
      },
      "source": [
        "! unzip -q caption_dataset.zip\n"
      ],
      "execution_count": 7,
      "outputs": []
    },
    {
      "cell_type": "code",
      "metadata": {
        "id": "iMPWksj25iDF"
      },
      "source": [
        "mv a-PyTorch-Tutorial-to-Image-Captioning imgcap_tut1\n"
      ],
      "execution_count": 17,
      "outputs": []
    },
    {
      "cell_type": "code",
      "metadata": {
        "colab": {
          "base_uri": "https://localhost:8080/"
        },
        "id": "mlW9LU6863eF",
        "outputId": "157c6112-90ae-4644-d885-257520c75855"
      },
      "source": [
        "!pip install Pillow"
      ],
      "execution_count": 14,
      "outputs": [
        {
          "output_type": "stream",
          "text": [
            "Requirement already satisfied: Pillow in /usr/local/lib/python3.6/dist-packages (7.0.0)\n"
          ],
          "name": "stdout"
        }
      ]
    },
    {
      "cell_type": "code",
      "metadata": {
        "id": "vS8tvY4N5unf"
      },
      "source": [
        "from imgcap_tut1.utils import create_input_files\n"
      ],
      "execution_count": 18,
      "outputs": []
    },
    {
      "cell_type": "code",
      "metadata": {
        "id": "xopDNeOk5_uQ"
      },
      "source": [
        "! mkdir -p caption_data_flickr8k\n"
      ],
      "execution_count": 19,
      "outputs": []
    },
    {
      "cell_type": "code",
      "metadata": {
        "colab": {
          "base_uri": "https://localhost:8080/"
        },
        "id": "I7iH_GQJ8Ic1",
        "outputId": "50e56543-519b-491c-eebb-282689fe24a2"
      },
      "source": [
        "create_input_files(\n",
        "    dataset='flickr8k',\n",
        "    karpathy_json_path=\"dataset_flickr8k.json\",\n",
        "    image_folder=\"Flickr8k_Dataset/Flicker8k_Dataset\", \n",
        "    captions_per_image=5,\n",
        "    min_word_freq=5, \n",
        "    output_folder=\"caption_data_flickr8k\", \n",
        "    max_len=50\n",
        ")"
      ],
      "execution_count": null,
      "outputs": [
        {
          "output_type": "stream",
          "text": [
            "  0%|          | 7/6000 [00:00<01:31, 65.17it/s]"
          ],
          "name": "stderr"
        },
        {
          "output_type": "stream",
          "text": [
            "\n",
            "Reading TRAIN images and captions, storing to file...\n",
            "\n"
          ],
          "name": "stdout"
        },
        {
          "output_type": "stream",
          "text": [
            "100%|██████████| 6000/6000 [00:53<00:00, 112.05it/s]\n",
            "  1%|          | 12/1000 [00:00<00:08, 113.88it/s]"
          ],
          "name": "stderr"
        },
        {
          "output_type": "stream",
          "text": [
            "\n",
            "Reading VAL images and captions, storing to file...\n",
            "\n"
          ],
          "name": "stdout"
        },
        {
          "output_type": "stream",
          "text": [
            " 65%|██████▍   | 648/1000 [00:05<00:03, 110.41it/s]"
          ],
          "name": "stderr"
        }
      ]
    },
    {
      "cell_type": "code",
      "metadata": {
        "id": "aveacQtT8L2T"
      },
      "source": [
        ""
      ],
      "execution_count": null,
      "outputs": []
    }
  ]
}